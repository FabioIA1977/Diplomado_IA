{
  "nbformat": 4,
  "nbformat_minor": 0,
  "metadata": {
    "colab": {
      "provenance": [],
      "include_colab_link": true
    },
    "kernelspec": {
      "name": "python3",
      "display_name": "Python 3"
    },
    "language_info": {
      "name": "python"
    }
  },
  "cells": [
    {
      "cell_type": "markdown",
      "metadata": {
        "id": "view-in-github",
        "colab_type": "text"
      },
      "source": [
        "<a href=\"https://colab.research.google.com/github/FabioIA1977/Diplomado_IA/blob/main/S3_C1_Expresiones.ipynb\" target=\"_parent\"><img src=\"https://colab.research.google.com/assets/colab-badge.svg\" alt=\"Open In Colab\"/></a>"
      ]
    },
    {
      "cell_type": "markdown",
      "source": [
        "# Capítulo 2.2. Expresiones y Operadores\n",
        "\n",
        "**Objetivo:**\n",
        "Familiarizarse con los operadores matemáticos, relacionales y lógicos en Python mediante ejercicios prácticos y análisis de expresiones"
      ],
      "metadata": {
        "id": "nltUQBgRWM5X"
      }
    },
    {
      "cell_type": "markdown",
      "source": [
        "# Parte 1. Operadores aritmeticos"
      ],
      "metadata": {
        "id": "uj-B6ji_XaiE"
      }
    },
    {
      "cell_type": "code",
      "execution_count": null,
      "metadata": {
        "id": "pkko8vl6VzBR"
      },
      "outputs": [],
      "source": [
        "# Definimos variables numéricas\n",
        "a = 10\n",
        "b = 3\n",
        "# Operaciones básicas\n",
        "suma = a + b\n",
        "resta = a - b\n",
        "multiplicacion = a * b\n",
        "division = a / b\n",
        "division_entera = a // b\n",
        "modulo = a % b\n",
        "potencia = a ** b"
      ]
    },
    {
      "cell_type": "code",
      "source": [
        "potencia\n",
        "a**b"
      ],
      "metadata": {
        "colab": {
          "base_uri": "https://localhost:8080/"
        },
        "id": "f3G_5GvEyGpq",
        "outputId": "91ae8b14-fe3f-467a-d486-8aab7352b96a"
      },
      "execution_count": null,
      "outputs": [
        {
          "output_type": "execute_result",
          "data": {
            "text/plain": [
              "1000"
            ]
          },
          "metadata": {},
          "execution_count": 14
        }
      ]
    },
    {
      "cell_type": "code",
      "source": [],
      "metadata": {
        "id": "iMvhcpf7ynYe"
      },
      "execution_count": null,
      "outputs": []
    },
    {
      "cell_type": "code",
      "source": [
        "suma"
      ],
      "metadata": {
        "id": "28WCBxh7XiGl",
        "colab": {
          "base_uri": "https://localhost:8080/"
        },
        "outputId": "edfa1dd7-4cbd-430b-dd25-c272c646cb38"
      },
      "execution_count": null,
      "outputs": [
        {
          "output_type": "execute_result",
          "data": {
            "text/plain": [
              "13"
            ]
          },
          "metadata": {},
          "execution_count": 2
        }
      ]
    },
    {
      "cell_type": "code",
      "source": [
        "resta"
      ],
      "metadata": {
        "colab": {
          "base_uri": "https://localhost:8080/"
        },
        "id": "uCs3u2RgxL0V",
        "outputId": "384aa64c-760a-4b4f-9f6b-77c0229013f4"
      },
      "execution_count": null,
      "outputs": [
        {
          "output_type": "execute_result",
          "data": {
            "text/plain": [
              "7"
            ]
          },
          "metadata": {},
          "execution_count": 3
        }
      ]
    },
    {
      "cell_type": "code",
      "source": [
        "multiplicacion"
      ],
      "metadata": {
        "colab": {
          "base_uri": "https://localhost:8080/"
        },
        "id": "2Dnlp_J0xTi0",
        "outputId": "76c88546-0dab-4e5a-8ab1-f781a137f167"
      },
      "execution_count": null,
      "outputs": [
        {
          "output_type": "execute_result",
          "data": {
            "text/plain": [
              "30"
            ]
          },
          "metadata": {},
          "execution_count": 4
        }
      ]
    },
    {
      "cell_type": "code",
      "source": [
        "modulo"
      ],
      "metadata": {
        "colab": {
          "base_uri": "https://localhost:8080/"
        },
        "id": "v4S1G2E-x9Ty",
        "outputId": "b73bd75a-05db-46d4-b781-7566ab36cac2"
      },
      "execution_count": null,
      "outputs": [
        {
          "output_type": "execute_result",
          "data": {
            "text/plain": [
              "1"
            ]
          },
          "metadata": {},
          "execution_count": 7
        }
      ]
    },
    {
      "cell_type": "code",
      "source": [
        "division"
      ],
      "metadata": {
        "colab": {
          "base_uri": "https://localhost:8080/"
        },
        "id": "LbGSwPcJxtui",
        "outputId": "b353df62-7a20-4007-c7a3-536943190186"
      },
      "execution_count": null,
      "outputs": [
        {
          "output_type": "execute_result",
          "data": {
            "text/plain": [
              "3.3333333333333335"
            ]
          },
          "metadata": {},
          "execution_count": 5
        }
      ]
    },
    {
      "cell_type": "code",
      "source": [
        "division_entera"
      ],
      "metadata": {
        "colab": {
          "base_uri": "https://localhost:8080/"
        },
        "id": "oxal98ctx1aJ",
        "outputId": "53150bb9-70f8-4dbc-c83b-4bb9110ee7f3"
      },
      "execution_count": null,
      "outputs": [
        {
          "output_type": "execute_result",
          "data": {
            "text/plain": [
              "3"
            ]
          },
          "metadata": {},
          "execution_count": 6
        }
      ]
    },
    {
      "cell_type": "markdown",
      "source": [
        "1. ¿Qué diferencia observas entre la división / y la división entera //?\n",
        "2. ¿Qué ocurre cuando cambias b por b = 0 en la operación de división?"
      ],
      "metadata": {
        "id": "SsYX8LojXoBE"
      }
    },
    {
      "cell_type": "markdown",
      "source": [
        "# Parte 2. Operadores Relacionales\n",
        "\n",
        "* `> ` : mayor que\n",
        "*` <`  : menor que\n",
        "* == : igual\n",
        "* != : diferente"
      ],
      "metadata": {
        "id": "lmusF4FRYPni"
      }
    },
    {
      "cell_type": "code",
      "source": [
        "x = 10\n",
        "y = 20\n",
        "\n",
        "# Actividad: Genera una comparación con cada operador\n"
      ],
      "metadata": {
        "id": "6ZPs4G73Xmos"
      },
      "execution_count": 30,
      "outputs": []
    },
    {
      "cell_type": "code",
      "source": [
        "x > y"
      ],
      "metadata": {
        "colab": {
          "base_uri": "https://localhost:8080/"
        },
        "id": "vaPH3ZD6zy27",
        "outputId": "85ea1276-aa43-4a4f-8596-3ca3f13ac594"
      },
      "execution_count": null,
      "outputs": [
        {
          "output_type": "execute_result",
          "data": {
            "text/plain": [
              "False"
            ]
          },
          "metadata": {},
          "execution_count": 18
        }
      ]
    },
    {
      "cell_type": "code",
      "source": [
        "x<y\n",
        "x==y\n",
        "x!=y"
      ],
      "metadata": {
        "colab": {
          "base_uri": "https://localhost:8080/"
        },
        "id": "Zde5nXRRz6_I",
        "outputId": "e01ed150-5ce7-4bf3-c278-d7fbc474c9ea"
      },
      "execution_count": null,
      "outputs": [
        {
          "output_type": "execute_result",
          "data": {
            "text/plain": [
              "True"
            ]
          },
          "metadata": {},
          "execution_count": 21
        }
      ]
    },
    {
      "cell_type": "markdown",
      "source": [
        "# Parte 3. Operadores Lógicos"
      ],
      "metadata": {
        "id": "U13O48cnX7ly"
      }
    },
    {
      "cell_type": "code",
      "source": [
        "p = True\n",
        "q = False\n",
        "\n",
        "print(\"p AND q:\", p and q)\n",
        "print(\"p OR q:\", p or q)\n",
        "print(\"NOT p:\", not p)"
      ],
      "metadata": {
        "id": "dn0lafknYA8E",
        "colab": {
          "base_uri": "https://localhost:8080/"
        },
        "outputId": "428f8312-6132-49e7-e37c-49c3b9f97a6b"
      },
      "execution_count": 24,
      "outputs": [
        {
          "output_type": "stream",
          "name": "stdout",
          "text": [
            "p AND q: False\n",
            "p OR q: True\n",
            "NOT p: False\n"
          ]
        }
      ]
    },
    {
      "cell_type": "code",
      "source": [
        "### Solo imprimir texto\n",
        "print(\"solo inprimir texto\")\n",
        "### Solo imprimir el valor de una variable o una operación\n",
        "print(p and q)\n",
        "### Combinando texto + operacion\n",
        "print(\"p AND q:\", p and q)"
      ],
      "metadata": {
        "colab": {
          "base_uri": "https://localhost:8080/"
        },
        "id": "U0_-ZKrz2lNk",
        "outputId": "951f61d2-6889-44d2-9fd2-49e66f6ef442"
      },
      "execution_count": 29,
      "outputs": [
        {
          "output_type": "stream",
          "name": "stdout",
          "text": [
            "solo inprimir texto\n",
            "False\n",
            "p AND q: False\n"
          ]
        }
      ]
    },
    {
      "cell_type": "code",
      "source": [
        "print(\"p AND q\")"
      ],
      "metadata": {
        "colab": {
          "base_uri": "https://localhost:8080/"
        },
        "id": "uHAc9B52ii5r",
        "outputId": "50296ccd-2c92-4e69-bd13-58dba2b9391c"
      },
      "execution_count": 23,
      "outputs": [
        {
          "output_type": "stream",
          "name": "stdout",
          "text": [
            "p AND q\n"
          ]
        }
      ]
    },
    {
      "cell_type": "code",
      "source": [
        "print(\"contexto:\", p)"
      ],
      "metadata": {
        "colab": {
          "base_uri": "https://localhost:8080/"
        },
        "id": "Zi7AN-QujzzH",
        "outputId": "2260c24e-a331-4924-ac3f-08ef450e7a4a"
      },
      "execution_count": null,
      "outputs": [
        {
          "output_type": "stream",
          "name": "stdout",
          "text": [
            "contexto: True\n"
          ]
        }
      ]
    },
    {
      "cell_type": "code",
      "source": [
        "A = True\n",
        "B = True\n",
        "A and B"
      ],
      "metadata": {
        "colab": {
          "base_uri": "https://localhost:8080/"
        },
        "id": "WR3wVpHHkIPB",
        "outputId": "f87b0663-e59b-48fe-9b0d-d52167ad4512"
      },
      "execution_count": 38,
      "outputs": [
        {
          "output_type": "execute_result",
          "data": {
            "text/plain": [
              "True"
            ]
          },
          "metadata": {},
          "execution_count": 38
        }
      ]
    },
    {
      "cell_type": "code",
      "source": [
        "contexto: True\n",
        "p AND q: False\n",
        "p OR q: True\n",
        "NOT p: False"
      ],
      "metadata": {
        "colab": {
          "base_uri": "https://localhost:8080/",
          "height": 110
        },
        "id": "WQn5xo9NkiPH",
        "outputId": "0df76ee4-8b77-434a-d0ba-aa992f6cc8c4"
      },
      "execution_count": 39,
      "outputs": [
        {
          "output_type": "error",
          "ename": "SyntaxError",
          "evalue": "invalid syntax (<ipython-input-39-ba1ef4aae73f>, line 2)",
          "traceback": [
            "\u001b[0;36m  File \u001b[0;32m\"<ipython-input-39-ba1ef4aae73f>\"\u001b[0;36m, line \u001b[0;32m2\u001b[0m\n\u001b[0;31m    p AND q: False\u001b[0m\n\u001b[0m      ^\u001b[0m\n\u001b[0;31mSyntaxError\u001b[0m\u001b[0;31m:\u001b[0m invalid syntax\n"
          ]
        }
      ]
    },
    {
      "cell_type": "code",
      "source": [],
      "metadata": {
        "id": "FOgtjtoYjVx-"
      },
      "execution_count": null,
      "outputs": []
    },
    {
      "cell_type": "markdown",
      "source": [
        "1. ¿En qué casos la operación and devuelve True?\n",
        "2. ¿Qué sucede si cambias los valores de p y q?"
      ],
      "metadata": {
        "id": "fvvGPUfwYCpt"
      }
    },
    {
      "cell_type": "markdown",
      "source": [
        "# Parte 4. Expresiones Matemáticas Combinadas"
      ],
      "metadata": {
        "id": "qM2E3eUdYMBz"
      }
    },
    {
      "cell_type": "code",
      "source": [
        "# Actividad 1. Cuál es el valor de x en los siguientes casos\n",
        "# x = 3 + 2 * 2\n",
        "# x = (3 + 2) * 2"
      ],
      "metadata": {
        "id": "sgSC8rN3YLjK"
      },
      "execution_count": 31,
      "outputs": []
    },
    {
      "cell_type": "code",
      "source": [
        "x = 3 + 2 * 2\n",
        "x"
      ],
      "metadata": {
        "colab": {
          "base_uri": "https://localhost:8080/"
        },
        "id": "ZCv_5oToogxe",
        "outputId": "893915af-d83a-4e39-e70e-2aa32743591e"
      },
      "execution_count": 32,
      "outputs": [
        {
          "output_type": "execute_result",
          "data": {
            "text/plain": [
              "7"
            ]
          },
          "metadata": {},
          "execution_count": 32
        }
      ]
    },
    {
      "cell_type": "code",
      "source": [
        "y = (3 + 2) * 2\n",
        "y"
      ],
      "metadata": {
        "colab": {
          "base_uri": "https://localhost:8080/"
        },
        "id": "X3Q8nyl6o1bV",
        "outputId": "e8b736da-a3ff-45c3-a17e-405115782973"
      },
      "execution_count": 34,
      "outputs": [
        {
          "output_type": "execute_result",
          "data": {
            "text/plain": [
              "10"
            ]
          },
          "metadata": {},
          "execution_count": 34
        }
      ]
    },
    {
      "cell_type": "code",
      "source": [
        "y + x"
      ],
      "metadata": {
        "colab": {
          "base_uri": "https://localhost:8080/"
        },
        "id": "1sZXtbRno609",
        "outputId": "a56d3929-3f5e-4e13-abc6-5b23d6c032c3"
      },
      "execution_count": 35,
      "outputs": [
        {
          "output_type": "execute_result",
          "data": {
            "text/plain": [
              "17"
            ]
          },
          "metadata": {},
          "execution_count": 35
        }
      ]
    },
    {
      "cell_type": "code",
      "source": [
        "A = 3 + 2 * 2\n",
        "B = (3 + 2) * 2\n",
        "print(\"OPERA sin parentesis\", A)\n",
        "print(\"AAAAA con parentesis\", B)"
      ],
      "metadata": {
        "colab": {
          "base_uri": "https://localhost:8080/"
        },
        "id": "5ilGI1JIp3hC",
        "outputId": "9fb50e77-705b-4fd7-b4d1-b35403c87abe"
      },
      "execution_count": null,
      "outputs": [
        {
          "output_type": "stream",
          "name": "stdout",
          "text": [
            "OPERA sin parentesis 7\n",
            "AAAAA con parentesis 10\n"
          ]
        }
      ]
    },
    {
      "cell_type": "markdown",
      "source": [
        "Actividad 4. Se tiene la ecuación del movimiento rectilíneo uniformemente acelerado:\n",
        "![image.png](data:image/png;base64,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)\n",
        "\n",
        "donde:\n",
        "\n",
        "* x_i = 0   # Posición inicial (m)\n",
        "* v_i = 5   # Velocidad inicial (m/s)\n",
        "* a = 2     # Aceleración (m/s^2)\n",
        "* t = 10    # Tiempo (s)"
      ],
      "metadata": {
        "id": "D-TqaQ60Z2-F"
      }
    },
    {
      "cell_type": "code",
      "source": [],
      "metadata": {
        "id": "BiPTwmMiZuIG"
      },
      "execution_count": null,
      "outputs": []
    },
    {
      "cell_type": "code",
      "source": [
        "x_i = 0\n",
        "v_i = 5\n",
        "a = 2\n",
        "t = 10\n",
        "\n",
        "X = x_i + v_i * t + 0.5 * a * t ** 2\n",
        "print(\"La posicion final es:\", X , \"metros.\\n\\n Dada una Velocidad uniforme de:\", v_i, \"m/s\",\"\\n\\n entendido?\")"
      ],
      "metadata": {
        "colab": {
          "base_uri": "https://localhost:8080/"
        },
        "id": "1H-WDlLDrPNW",
        "outputId": "5f95467a-5493-4449-bea1-75e63de09530"
      },
      "execution_count": 43,
      "outputs": [
        {
          "output_type": "stream",
          "name": "stdout",
          "text": [
            "La posicion final es: 150.0 metros.\n",
            "\n",
            " Dada una Velocidad uniforme de: 5 m/s \n",
            "\n",
            " entendido?\n"
          ]
        }
      ]
    },
    {
      "cell_type": "markdown",
      "source": [],
      "metadata": {
        "id": "TRdsGw_qsOCL"
      }
    }
  ]
}