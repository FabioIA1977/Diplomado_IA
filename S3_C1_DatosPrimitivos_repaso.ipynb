{
  "nbformat": 4,
  "nbformat_minor": 0,
  "metadata": {
    "colab": {
      "provenance": [],
      "include_colab_link": true
    },
    "kernelspec": {
      "name": "python3",
      "display_name": "Python 3"
    },
    "language_info": {
      "name": "python"
    }
  },
  "cells": [
    {
      "cell_type": "markdown",
      "metadata": {
        "id": "view-in-github",
        "colab_type": "text"
      },
      "source": [
        "<a href=\"https://colab.research.google.com/github/FabioIA1977/Diplomado_IA/blob/main/S3_C1_DatosPrimitivos_repaso.ipynb\" target=\"_parent\"><img src=\"https://colab.research.google.com/assets/colab-badge.svg\" alt=\"Open In Colab\"/></a>"
      ]
    },
    {
      "cell_type": "code",
      "source": [
        "import this"
      ],
      "metadata": {
        "id": "INgY8eBcOcJE",
        "colab": {
          "base_uri": "https://localhost:8080/"
        },
        "outputId": "722de0a7-386f-4469-84ec-d660b6e841be"
      },
      "execution_count": null,
      "outputs": [
        {
          "output_type": "stream",
          "name": "stdout",
          "text": [
            "The Zen of Python, by Tim Peters\n",
            "\n",
            "Beautiful is better than ugly.\n",
            "Explicit is better than implicit.\n",
            "Simple is better than complex.\n",
            "Complex is better than complicated.\n",
            "Flat is better than nested.\n",
            "Sparse is better than dense.\n",
            "Readability counts.\n",
            "Special cases aren't special enough to break the rules.\n",
            "Although practicality beats purity.\n",
            "Errors should never pass silently.\n",
            "Unless explicitly silenced.\n",
            "In the face of ambiguity, refuse the temptation to guess.\n",
            "There should be one-- and preferably only one --obvious way to do it.\n",
            "Although that way may not be obvious at first unless you're Dutch.\n",
            "Now is better than never.\n",
            "Although never is often better than *right* now.\n",
            "If the implementation is hard to explain, it's a bad idea.\n",
            "If the implementation is easy to explain, it may be a good idea.\n",
            "Namespaces are one honking great idea -- let's do more of those!\n"
          ]
        }
      ]
    },
    {
      "cell_type": "markdown",
      "source": [
        "# Paso 1. Declaración de variables"
      ],
      "metadata": {
        "id": "3l6JJPOhPUHS"
      }
    },
    {
      "cell_type": "code",
      "execution_count": 15,
      "metadata": {
        "id": "qAf9dBUzN79j"
      },
      "outputs": [],
      "source": [
        "## ZEN 2.  Explicit is better than implicit.\n",
        "edad = 25            # Entero (int)\n",
        "altura = 1.75        # Flotante (float)\n",
        "altura2 = 1.5\n",
        "nombre = \"Carlos\"    # Cadena de texto (string)\n",
        "es_estudiante = True # Booleano (bool)"
      ]
    },
    {
      "cell_type": "markdown",
      "source": [
        "# Paso 2. Leer el tipo de Variable"
      ],
      "metadata": {
        "id": "IZAVuwQqPf2j"
      }
    },
    {
      "cell_type": "code",
      "source": [
        "# Para leer el tipo de la variable\n",
        "type(edad)\n",
        "type(altura)\n",
        "type(nombre)\n",
        "type(es_estudiante)"
      ],
      "metadata": {
        "id": "dgw2Lk9KPPsN",
        "colab": {
          "base_uri": "https://localhost:8080/"
        },
        "outputId": "c1a288bd-c485-4f65-a455-0a44ef4824e1"
      },
      "execution_count": 7,
      "outputs": [
        {
          "output_type": "execute_result",
          "data": {
            "text/plain": [
              "bool"
            ]
          },
          "metadata": {},
          "execution_count": 7
        }
      ]
    },
    {
      "cell_type": "markdown",
      "source": [
        "# Paso 3. Convertir\n",
        "\n",
        "para convertir se usa el tipo deseado y la variable en el parentesis:\n",
        "\n",
        "* int(variable)\n",
        "* float(variable)\n",
        "* str(variable)\n",
        "\n",
        "## Errores cómunes\n",
        "\n",
        "*  int('a')\n",
        "## Actividad\n",
        "* Convierte la edad en un número flotante e imprímela.\n",
        "* Convierte la altura en un número entero e imprímela.\n",
        "* Convierte la edad en una cadena de texto e imprímela.\n",
        "* Convierte el valor booleano es_estudiante en un número entero y en una cadena de texto, mostrando los resultados."
      ],
      "metadata": {
        "id": "dZvDO0cNPxIy"
      }
    },
    {
      "cell_type": "code",
      "source": [
        "int('1')"
      ],
      "metadata": {
        "id": "wbThLYmLQ_Mi",
        "colab": {
          "base_uri": "https://localhost:8080/"
        },
        "outputId": "69c4280d-1fd3-4621-91a8-ace4cf4f138b"
      },
      "execution_count": 8,
      "outputs": [
        {
          "output_type": "execute_result",
          "data": {
            "text/plain": [
              "1"
            ]
          },
          "metadata": {},
          "execution_count": 8
        }
      ]
    },
    {
      "cell_type": "code",
      "source": [
        "int('a')"
      ],
      "metadata": {
        "id": "ha9AFOuEQ8Q5",
        "colab": {
          "base_uri": "https://localhost:8080/",
          "height": 147
        },
        "outputId": "f76cc42c-d63c-45eb-dc1f-eda6c01f352b"
      },
      "execution_count": 9,
      "outputs": [
        {
          "output_type": "error",
          "ename": "ValueError",
          "evalue": "invalid literal for int() with base 10: 'a'",
          "traceback": [
            "\u001b[0;31m---------------------------------------------------------------------------\u001b[0m",
            "\u001b[0;31mValueError\u001b[0m                                Traceback (most recent call last)",
            "\u001b[0;32m<ipython-input-9-233884bacd4e>\u001b[0m in \u001b[0;36m<cell line: 0>\u001b[0;34m()\u001b[0m\n\u001b[0;32m----> 1\u001b[0;31m \u001b[0mint\u001b[0m\u001b[0;34m(\u001b[0m\u001b[0;34m'a'\u001b[0m\u001b[0;34m)\u001b[0m\u001b[0;34m\u001b[0m\u001b[0;34m\u001b[0m\u001b[0m\n\u001b[0m",
            "\u001b[0;31mValueError\u001b[0m: invalid literal for int() with base 10: 'a'"
          ]
        }
      ]
    },
    {
      "cell_type": "code",
      "source": [
        "float(edad)\n",
        "int(altura) #cuando convierto buleano a entero devuelve la parte entera\n",
        "round(altura)\n",
        "float(altura2)"
      ],
      "metadata": {
        "colab": {
          "base_uri": "https://localhost:8080/"
        },
        "id": "lJsk-qOcuNv3",
        "outputId": "365731c0-18f4-476e-9079-0b2e4787bdd7"
      },
      "execution_count": 17,
      "outputs": [
        {
          "output_type": "execute_result",
          "data": {
            "text/plain": [
              "1.5"
            ]
          },
          "metadata": {},
          "execution_count": 17
        }
      ]
    },
    {
      "cell_type": "code",
      "source": [
        "bool(estado)"
      ],
      "metadata": {
        "colab": {
          "base_uri": "https://localhost:8080/",
          "height": 147
        },
        "id": "e_iJ3UW_vxt8",
        "outputId": "4de86f2d-2a04-4c3f-ecbd-bc2a3703f317"
      },
      "execution_count": 18,
      "outputs": [
        {
          "output_type": "error",
          "ename": "NameError",
          "evalue": "name 'estado' is not defined",
          "traceback": [
            "\u001b[0;31m---------------------------------------------------------------------------\u001b[0m",
            "\u001b[0;31mNameError\u001b[0m                                 Traceback (most recent call last)",
            "\u001b[0;32m<ipython-input-18-2b2bfbec74b1>\u001b[0m in \u001b[0;36m<cell line: 0>\u001b[0;34m()\u001b[0m\n\u001b[0;32m----> 1\u001b[0;31m \u001b[0mbool\u001b[0m\u001b[0;34m(\u001b[0m\u001b[0mestado\u001b[0m\u001b[0;34m)\u001b[0m\u001b[0;34m\u001b[0m\u001b[0;34m\u001b[0m\u001b[0m\n\u001b[0m",
            "\u001b[0;31mNameError\u001b[0m: name 'estado' is not defined"
          ]
        }
      ]
    }
  ]
}